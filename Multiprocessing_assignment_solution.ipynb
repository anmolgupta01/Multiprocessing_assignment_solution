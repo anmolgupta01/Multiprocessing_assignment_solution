{
 "cells": [
  {
   "cell_type": "markdown",
   "id": "070f190a",
   "metadata": {},
   "source": [
    "Q1. What is multiprocessing in python? Why is it useful?"
   ]
  },
  {
   "cell_type": "markdown",
   "id": "98178008",
   "metadata": {},
   "source": [
    "Multiprocessing in Python refers to the capability of the Python programming language to execute multiple processes concurrently, allowing you to utilize multiple CPU cores effectively for parallel execution. Each process runs in its own memory space and has its own Python interpreter. This is in contrast to multithreading, where multiple threads share the same memory space and can potentially lead to issues related to the Global Interpreter Lock (GIL) in Python.\n",
    "\n",
    "Multiprocessing is useful for several reasons:\n",
    "\n",
    "# Improved Performance:\n",
    "By distributing tasks across multiple processes, you can take advantage of modern multi-core processors, leading to faster execution of CPU-bound tasks.\n",
    "\n",
    "# Parallelism: \n",
    "Multiprocessing allows you to perform multiple independent tasks in parallel, which can greatly speed up the execution of certain types of programs.\n",
    "\n",
    "# Isolation: \n",
    "Each process operates independently and has its own memory space, which reduces the risk of conflicts and unintended interactions between different parts of your code.\n",
    "\n",
    "# GIL Bypass:\n",
    "Unlike multithreading, where the Global Interpreter Lock (GIL) can limit the parallelism of Python threads, multiprocessing can fully utilize multiple CPU cores without being constrained by the GIL.\n",
    "\n",
    "# Utilizing CPU-bound Tasks: \n",
    "Multiprocessing is particularly useful for CPU-bound tasks, where the program's performance is limited by the speed of the CPU rather than input/output operations.\n",
    "\n",
    "# Fault Tolerance: \n",
    "Since each process operates independently, if one process crashes or encounters an error, it doesn't necessarily affect other processes."
   ]
  },
  {
   "cell_type": "markdown",
   "id": "ee311a17",
   "metadata": {},
   "source": [
    "Q2. What are the differences between multiprocessing and multithreading?"
   ]
  },
  {
   "cell_type": "markdown",
   "id": "6fd44977",
   "metadata": {},
   "source": [
    "Multiprocessing and multithreading are both techniques for achieving parallelism in a program, but they operate at different levels and have distinct characteristics. \n",
    "\n",
    "# Isolation and Memory:\n",
    "Multiprocessing: Each process has its own separate memory space. Processes do not share memory by default, which reduces the risk of conflicts between processes.\n",
    "Multithreading: Threads within a process share the same memory space, making it easier to share data between threads. However, this can lead to synchronization and race condition issues.\n",
    "\n",
    "# Concurrency Model:\n",
    "Multiprocessing: Processes run concurrently, meaning they can execute truly simultaneously on different CPU cores.\n",
    "Multithreading: Threads run concurrently within a single process. Due to the Global Interpreter Lock (GIL) in CPython, Python threads are limited in their ability to execute Python code in parallel. This can impact the effectiveness of multithreading for CPU-bound tasks.\n",
    "\n",
    "# Resource Utilization:\n",
    "Multiprocessing: Can fully utilize multiple CPU cores and is well-suited for CPU-bound tasks.\n",
    "Multithreading: May not fully utilize multiple CPU cores due to the GIL. More suitable for I/O-bound tasks where threads can spend time waiting for external resources (like file I/O or network requests).\n",
    "\n",
    "# Complexity and Overhead:\n",
    "Multiprocessing: Involves the creation of separate processes, which can have higher overhead in terms of memory and communication compared to threads.\n",
    "Multithreading: Involves the creation of threads within the same process, resulting in lower overhead but potentially more complex synchronization requirements.\n",
    "\n",
    "# Communication and Synchronization:\n",
    "Multiprocessing: Communication between processes is typically achieved through inter-process communication (IPC) mechanisms like pipes, queues, and shared memory. Processes are more isolated and have less direct interaction.\n",
    "Multithreading: Threads within a process can communicate and share data more easily, but this can lead to synchronization challenges and the need for thread-safe data structures.\n",
    "\n",
    "# Fault Tolerance:\n",
    "Multiprocessing: If one process crashes, other processes are not affected.\n",
    "Multithreading: If a thread encounters an error, it can potentially affect the stability of the entire process."
   ]
  },
  {
   "cell_type": "markdown",
   "id": "8fb53df9",
   "metadata": {},
   "source": [
    "Q3. Write a python code to create a process using the multiprocessing module"
   ]
  },
  {
   "cell_type": "code",
   "execution_count": 2,
   "id": "8fd892bb",
   "metadata": {},
   "outputs": [],
   "source": [
    "import multiprocessing\n",
    "import logging\n",
    "logging.basicConfig(filename = \"msg.log\" , level = logging.INFO)\n",
    "\n",
    "def worker_function(name):\n",
    "    try:\n",
    "        logging.info(f\"Hello from process {name}\")\n",
    "    except Error as e:\n",
    "        logging.info(\"handling error {}\".format(e))\n",
    "\n",
    "if __name__ == \"__main__\":\n",
    "    # Create a Process object\n",
    "    process = multiprocessing.Process(target=worker_function, args=(\"Worker Process\",))\n",
    "    logging.info(\"Main process completed\")\n",
    "    # Start the process\n",
    "    process.start()\n",
    "\n",
    "    # Wait for the process to finish\n",
    "    process.join()\n",
    "\n",
    "    \n",
    "\n",
    "    "
   ]
  },
  {
   "cell_type": "markdown",
   "id": "8f39c246",
   "metadata": {},
   "source": [
    "Q4. What is a multiprocessing pool in python? Why is it used?"
   ]
  },
  {
   "cell_type": "markdown",
   "id": "7f490e21",
   "metadata": {},
   "source": [
    "A multiprocessing pool in Python is a convenient abstraction provided by the multiprocessing module that allows you to easily parallelize and distribute tasks across multiple worker processes. It provides a higher-level interface for managing a pool of worker processes, abstracting away many of the low-level details of process creation and management. This can simplify the process of parallelizing tasks and can lead to cleaner and more manageable code.\n",
    "\n",
    "Using a multiprocessing pool is advantageous for several reasons:\n",
    "\n",
    "Simplicity: It provides a higher-level, easier-to-use interface for parallelizing tasks compared to manually creating and managing individual processes.\n",
    "\n",
    "Resource Management: The pool handles the creation and management of worker processes, so you don't have to worry about the low-level details of process creation, termination, and synchronization.\n",
    "\n",
    "Code Clarity: Pool-based parallelism can make your code cleaner and more readable by abstracting away the complexities of managing multiple processes.\n",
    "\n",
    "Task Distribution: The pool automatically distributes tasks across available CPU cores, helping you take full advantage of multi-core processors.\n",
    "\n",
    "Synchronization and Communication: The pool handles the communication between the main program and worker processes, including the collection of results, simplifying the coordination of parallel tasks."
   ]
  },
  {
   "cell_type": "code",
   "execution_count": 1,
   "id": "35b3a850",
   "metadata": {},
   "outputs": [],
   "source": [
    "#example for pool process\n",
    "import multiprocessing\n",
    "import logging\n",
    "logging.basicConfig(filename = \"msg.log\" , level = logging.INFO)\n",
    "\n",
    "def square(n):\n",
    "    try:\n",
    "        return n**2\n",
    "    except ValueError as e:\n",
    "        logging.info(\"Handling error\" + str(e))\n",
    "\n",
    "if __name__ == '__main__':\n",
    "    with multiprocessing.Pool(processes=4) as pool : \n",
    "        out = pool.map(square , [1,2,3,4,5,6,7,8,9])\n",
    "        logging.info(out)\n",
    "    \n",
    "    "
   ]
  },
  {
   "cell_type": "markdown",
   "id": "82cf73bd",
   "metadata": {},
   "source": [
    "Q5. How can we create a pool of worker processes in python using the multiprocessing module?"
   ]
  },
  {
   "cell_type": "markdown",
   "id": "17ef00cc",
   "metadata": {},
   "source": [
    "We can create a pool of worker processes in Python using the multiprocessing module's Pool class. The Pool class provides a higher-level interface for managing and distributing tasks across multiple worker processes. Here's how you can create a pool of worker processes:\n"
   ]
  },
  {
   "cell_type": "code",
   "execution_count": null,
   "id": "1a2ad8ad",
   "metadata": {},
   "outputs": [],
   "source": [
    "#example for pool process\n",
    "import multiprocessing\n",
    "import logging\n",
    "logging.basicConfig(filename = \"msg.log\" , level = logging.INFO)\n",
    "\n",
    "def square(n):\n",
    "    try:\n",
    "        return n**2\n",
    "    except ValueError as e:\n",
    "        logging.info(\"Handling error\" + str(e))\n",
    "\n",
    "if __name__ == '__main__':\n",
    "    with multiprocessing.Pool(processes=4) as pool : \n",
    "        out = pool.map(square , [1,2,3,4,5,6,7,8,9])\n",
    "        logging.info(out)\n",
    "    \n",
    "    "
   ]
  },
  {
   "cell_type": "markdown",
   "id": "acdd0b90",
   "metadata": {},
   "source": [
    "Q6. Write a python program to create 4 processes, each process should print a different number using the \n",
    "multiprocessing module in python."
   ]
  },
  {
   "cell_type": "code",
   "execution_count": 1,
   "id": "b9a4f109",
   "metadata": {},
   "outputs": [],
   "source": [
    "import multiprocessing\n",
    "import logging\n",
    "logging.basicConfig(filename = \"msg.log\" , level = logging.INFO)\n",
    "\n",
    "def print_number(number):\n",
    "    logging.info(f\"Process {number}: My number is {number}\")\n",
    "\n",
    "if __name__ == \"__main__\":\n",
    "    processes = []\n",
    "    \n",
    "    for i in range(1, 5):\n",
    "        process = multiprocessing.Process(target=print_number, args=(i,))\n",
    "        processes.append(process)\n",
    "        process.start()\n",
    "    \n",
    "    for process in processes:\n",
    "        process.join()\n",
    "    \n",
    "    logging.info(\"All processes completed\")\n"
   ]
  },
  {
   "cell_type": "code",
   "execution_count": null,
   "id": "564f2c8a",
   "metadata": {},
   "outputs": [],
   "source": []
  },
  {
   "cell_type": "code",
   "execution_count": null,
   "id": "649ca916",
   "metadata": {},
   "outputs": [],
   "source": []
  },
  {
   "cell_type": "code",
   "execution_count": null,
   "id": "b42e8a00",
   "metadata": {},
   "outputs": [],
   "source": []
  }
 ],
 "metadata": {
  "kernelspec": {
   "display_name": "Python 3 (ipykernel)",
   "language": "python",
   "name": "python3"
  },
  "language_info": {
   "codemirror_mode": {
    "name": "ipython",
    "version": 3
   },
   "file_extension": ".py",
   "mimetype": "text/x-python",
   "name": "python",
   "nbconvert_exporter": "python",
   "pygments_lexer": "ipython3",
   "version": "3.11.4"
  }
 },
 "nbformat": 4,
 "nbformat_minor": 5
}
